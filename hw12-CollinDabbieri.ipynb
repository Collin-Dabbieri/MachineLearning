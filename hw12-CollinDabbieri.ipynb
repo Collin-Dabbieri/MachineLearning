{
 "cells": [
  {
   "cell_type": "markdown",
   "metadata": {},
   "source": [
    "# Homework 12\n",
    "\n",
    "## ASTR 5900, Fall 2017, University of Oklahoma\n",
    "\n",
    "### Neural Networks"
   ]
  },
  {
   "cell_type": "markdown",
   "metadata": {},
   "source": [
    "# Problem 1\n",
    "\n",
    "Imagine a neural network that has already been trained to classify configurations of classical spins in a lattice as 1 of 2 magnetic phases: ferromagnetic or paramagnetic.  A training set was generated using Monte Carlo at a range of temperatures, and the target classifications were determined based on their temperatures relative to the known critical temperature for the 2D ferromagnetic Ising model with Hamiltonian $$ H = -J\\sum_{\\langle i,j \\rangle} \\sigma^z_i \\sigma^z_j $$\n",
    "where $\\sigma^z_k = \\{-1, 1 \\}$ is the spin at site $k$ and the summation is over adjacent spin sites (sites that share an edge).  This Hamiltonian says there is energy stored between adjacent sites with opposite spins.  Because of this, at low temperatures the spins generally point in a single direction (either up or down).  As the temperature increases and crosses the critical temperature $T_C$, this aggregate behavior suddenly fades and the Ising system becomes disordered with an average magnetization of zero.  This happens because at higher temperatures the lattice is more likely to reach configurations with high energy (ie those with opposing spins next to each other).\n",
    "\n",
    "\n",
    "### Part A\n",
    "\n",
    "In this problem we want to locate the critical temperature of the Ising model.  To do this we will study the output of the trained neural net mentioned in the above prompt from a series of samples that we will generate at various temperatures.\n",
    "\n",
    "In this problem we will study square lattices of size $10 \\times 10$ with periodic boundary conditions.\n",
    "\n",
    "Write 3 python functions that will be used to create our spin samples.  The first function `energy` should take a spin configuration (an array of 1's and -1's) and the return its energy as determined from the Hamiltonian above.  The second is the `metropolis` function which takes a temperature as an argument and returns a set of spin configurations sampled at that temperature.  This must be performed using an Metropolis-Hastings algorithm, described below:\n",
    "\n",
    "1.  Initialize a uniform spin configuration $s$.\n",
    "2. Loop $n$ times\n",
    "    1. Generate a neighboring spin configuration $s'$ that's a 'neighbor' of $s$\n",
    "    2. Assign variable `a` = $\\text{min}(1, \\exp(\\frac{E_i - E_j}{T}))$ \n",
    "    3. With probability `a` accept state $s'$ and store it in your sample array.  If rejected, store $s$.\n",
    "3. Return the array of stored states\n",
    "\n",
    "The third function is `neighbor` and it returns a 'neighboring' state that is close to the input state.  It takes a state as an argument, makes a copy of it with `numpy.copy`, and flips the spin of 3 random sites in the copied state.  The altered state is then returned."
   ]
  },
  {
   "cell_type": "code",
   "execution_count": 1,
   "metadata": {
    "collapsed": true
   },
   "outputs": [],
   "source": [
    "import numpy as np"
   ]
  },
  {
   "cell_type": "code",
   "execution_count": 27,
   "metadata": {
    "collapsed": false
   },
   "outputs": [],
   "source": [
    "def energy(state):\n",
    "    side=10\n",
    "    #generate matrix of boundary locations\n",
    "    boundary=np.zeros((2*side,side))\n",
    "    \n",
    "    for i in range(side):\n",
    "        for j in range(side):\n",
    "            #location = [i,j]\n",
    "            \n",
    "            # j==side-1 and i==side-1 for wrap around\n",
    "            if j==(side-1) and i==(side-1):\n",
    "                \n",
    "                \n",
    "                if state[i,j]==-state[i,0] and state[i,j]==-state[0,j]:\n",
    "                    boundary[2*i,j]=1\n",
    "                    boundary[1+2*i,j]=1\n",
    "                    \n",
    "                elif state[i,j]==-state[i,0] and state[i,j]==state[0,j]:\n",
    "                    boundary[2*i,j]=1\n",
    "                    boundary[1+2*i,j]=-1\n",
    "                    \n",
    "                elif state[i,j]==state[i,0] and state[i,j]==-state[0,j]:\n",
    "                    boundary[2*i,j]=-1\n",
    "                    boundary[1+2*i,j]=1\n",
    "                    \n",
    "                elif state[i,j]==state[i,0] and state[i,j]==state[0,j]:\n",
    "                    boundary[2*i,j]=-1\n",
    "                    boundary[1+2*i,j]=-1\n",
    "                    \n",
    "                else:\n",
    "                    print 'error'\n",
    "                    \n",
    "            \n",
    "                \n",
    "                \n",
    "                \n",
    "            elif j==(side-1) and i<(side-1):\n",
    "                \n",
    "                if state[i,j]==-state[i,0] and state[i,j]==-state[i+1,j]:\n",
    "                    boundary[2*i,j]=1\n",
    "                    boundary[1+2*i,j]=1\n",
    "                \n",
    "                elif state[i,j]==-state[i,0] and state[i,j]==state[i+1,j]:\n",
    "                    boundary[2*i,j]=1\n",
    "                    boundary[1+2*i,j]=-1\n",
    "                \n",
    "                elif state[i,j]==state[i,0] and state[i,j]==-state[i+1,j]:\n",
    "                    boundary[2*i,j]=-1\n",
    "                    boundary[1+2*i,j]=1\n",
    "                \n",
    "                elif state[i,j]==state[i,0] and state[i,j]==state[i+1,j]:\n",
    "                    boundary[2*i,j]=-1\n",
    "                    boundary[1+2*i,j]=-1\n",
    "                \n",
    "                else:\n",
    "                    print 'error'\n",
    "                \n",
    "            elif j<(side-1) and i==(side-1):\n",
    "                \n",
    "                if state[i,j]==-state[i,j+1] and state[i,j]==-state[0,j]:\n",
    "                    boundary[2*i,j]=1\n",
    "                    boundary[1+2*i,j]=1\n",
    "                    \n",
    "                elif state[i,j]==-state[i,j+1] and state[i,j]==state[0,j]:\n",
    "                    boundary[2*i,j]=1\n",
    "                    boundary[1+2*i,j]=-1\n",
    "                    \n",
    "                elif state[i,j]==state[i,j+1] and state[i,j]==-state[0,j]:\n",
    "                    boundary[2*i,j]=-1\n",
    "                    boundary[1+2*i,j]=1\n",
    "                    \n",
    "                elif state[i,j]==state[i,j+1] and state[i,j]==state[0,j]:\n",
    "                    boundary[2*i,j]=-1\n",
    "                    boundary[1+2*i,j]=-1\n",
    "                else:\n",
    "                    print 'error'\n",
    "                \n",
    "            elif j<(side-1) and i<(side-1):\n",
    "                \n",
    "                if state[i,j]==-state[i,j+1] and state[i,j]==-state[i+1,j]:\n",
    "                    \n",
    "                    boundary[2*i,j]=1\n",
    "                    boundary[1+2*i,j]=1\n",
    "                    \n",
    "                elif state[i,j]==-state[i,j+1] and state[i,j]==state[i+1,j]:\n",
    "                    \n",
    "                    boundary[2*i,j]=1\n",
    "                    boundary[1+2*i,j]=-1\n",
    "                    \n",
    "                elif state[i,j]==state[i,j+1] and state[i,j]==-state[i+1,j]:\n",
    "                    \n",
    "                    boundary[2*i,j]=-1\n",
    "                    boundary[1+2*i,j]=1\n",
    "                    \n",
    "                elif state[i,j]==state[i,j+1] and state[i,j]==state[i+1,j]:\n",
    "                    \n",
    "                    boundary[2*i,j]=-1\n",
    "                    boundary[1+2*i,j]=-1\n",
    "                else:\n",
    "                    print 'error'\n",
    "            else:\n",
    "                print 'error'\n",
    "                \n",
    "                         \n",
    "    E=np.sum(boundary)\n",
    "            \n",
    "    return E\n",
    "\n",
    "def metropolis(temperature,n):\n",
    "    \n",
    "    #initialize uniform spin configuration\n",
    "    s=np.ones((10,10))\n",
    "    accepted=np.zeros((10,10))\n",
    "    stored_states=np.zeros((10,10,n))\n",
    "   \n",
    "    \n",
    "    #loop n times\n",
    "    for i in range(n):\n",
    "        \n",
    "        #generate a neighboring spin configuration\n",
    "        s_neighbor=neighbor(s)\n",
    "        \n",
    "        #assign variable a\n",
    "        a=np.exp((energy(s)-energy(s_neighbor))/temperature)\n",
    "        \n",
    "        #probability to accept state s' is a\n",
    "        b=np.random.uniform(0,1)\n",
    "        if b<a:\n",
    "            accepted=s_neighbor\n",
    "            \n",
    "        elif b>a:\n",
    "            accepted=s\n",
    "        else:\n",
    "            print 'error'\n",
    "        \n",
    "        s=accepted\n",
    "        \n",
    "        \n",
    "        stored_states[:,:,i]=s[:,:]\n",
    "        \n",
    "    return stored_states\n",
    "        \n",
    "    \n",
    "def neighbor(state):\n",
    "    state_copy=np.copy(state)\n",
    "    r=np.random.randint(0,10,6)\n",
    "    state_copy[r[0],r[1]]=-state[r[0],r[1]]\n",
    "    state_copy[r[2],r[3]]=-state[r[2],r[3]]\n",
    "    state_copy[r[4],r[5]]=-state[r[4],r[5]]\n",
    "    return state_copy\n",
    "    "
   ]
  },
  {
   "cell_type": "code",
   "execution_count": 23,
   "metadata": {
    "collapsed": false
   },
   "outputs": [
    {
     "name": "stdout",
     "output_type": "stream",
     "text": [
      "[0 0 1 0 0 1 1 0 0 0 1 1 0 1 1 1 1 0 1 1 1 0 1 1 1 0 0 0 1 1 0 1 1 1 0 0 0\n",
      " 1 1 0 0 1 1 0 1 0 1 0 1 0 1 1 1 1 0 1 0 0 1 0 0 1 0 1 0 0 1 0 0 1 1 0 0 1\n",
      " 1 1 0 1 1 1 1 1 1 1 0 1 1 1 0 0 0 1 1 1 1 1 1 1 1 1]\n",
      "[-1. -1.  1. -1. -1.  1.  1. -1. -1. -1.  1.  1. -1.  1.  1.  1.  1. -1.\n",
      "  1.  1.  1. -1.  1.  1.  1. -1. -1. -1.  1.  1. -1.  1.  1.  1. -1. -1.\n",
      " -1.  1.  1. -1. -1.  1.  1. -1.  1. -1.  1. -1.  1. -1.  1.  1.  1.  1.\n",
      " -1.  1. -1. -1.  1. -1. -1.  1. -1.  1. -1. -1.  1. -1. -1.  1.  1. -1.\n",
      " -1.  1.  1.  1. -1.  1.  1.  1.  1.  1.  1.  1. -1.  1.  1.  1. -1. -1.\n",
      " -1.  1.  1.  1.  1.  1.  1.  1.  1.  1.]\n",
      "4.0\n",
      "0.000335462627903\n",
      "6.14421235333e-06\n"
     ]
    }
   ],
   "source": [
    "n=np.random.randint(2,size=(100))\n",
    "print n\n",
    "a=np.ones(100)\n",
    "b=0\n",
    "for i in n:\n",
    "    \n",
    "    if i==0:\n",
    "        a[b]=-1\n",
    "    else:\n",
    "        a[b]=1\n",
    "    b+=1\n",
    "\n",
    "print a\n",
    "\n",
    "state=np.reshape(a,(10,10))\n",
    "print energy(state)\n",
    "print np.exp(energy(neighbor(state))-energy(state))\n",
    "print np.exp(energy(state)-energy(neighbor(state)))"
   ]
  },
  {
   "cell_type": "code",
   "execution_count": 19,
   "metadata": {
    "collapsed": false
   },
   "outputs": [
    {
     "name": "stdout",
     "output_type": "stream",
     "text": [
      "26489122129.8\n",
      "3.77513454428e-11\n"
     ]
    }
   ],
   "source": [
    "state=np.ones((10,10))\n",
    "print np.exp(energy(neighbor(state))-energy(state))\n",
    "print np.exp(energy(state)-energy(neighbor(state)))"
   ]
  },
  {
   "cell_type": "code",
   "execution_count": 24,
   "metadata": {
    "collapsed": false
   },
   "outputs": [
    {
     "name": "stdout",
     "output_type": "stream",
     "text": [
      "485165195.41\n",
      "1.12535174719e-07\n"
     ]
    }
   ],
   "source": [
    "stored_states=metropolis(1.,10000)\n",
    "s1=stored_states[:,:,0]\n",
    "s2=stored_states[:,:,9999]\n",
    "print np.exp(energy(neighbor(s1))-energy(s1))\n",
    "print np.exp(energy(neighbor(s2))-energy(s2))"
   ]
  },
  {
   "cell_type": "markdown",
   "metadata": {},
   "source": [
    "### Part B\n",
    "\n",
    "It's time to generate data with the functions we just defined and apply it to the trained neural net.  As you know, a standard feed forward neural network is a series of layers of connected neurons that fire (or fractionally fire) based on the linear sum of weights and inputs from their respective previous layer.\n",
    "\n",
    "The neural network in question has 3 layers: the 100 size input layer (because the input is an spin configuration on a $10 \\times 10$ lattice), a hidden layer with 3 perceptrons, and an output layer of 2 perceptrons.  The weights and biases of the first layer are:\n",
    "\n",
    "$$ W_1 = \\frac{1}{N(1 + \\epsilon)}\n",
    " \\begin{pmatrix}\n",
    "  1 & 1 & \\cdots & 1 \\\\\n",
    "  -1 & -1 & \\cdots & -1 \\\\\n",
    "  1 & 1 & \\cdots & 1\n",
    " \\end{pmatrix} \\; \\; \\text{and} \\; \\; b_1 = \\frac{\\epsilon}{1+\\epsilon} \\begin{pmatrix}\n",
    "  -1 \\\\\n",
    "  -1 \\\\\n",
    "  1\n",
    " \\end{pmatrix}$$\n",
    " \n",
    " This actually works out to be $$ Wx + b = \\frac{1}{1 + \\epsilon}\\begin{pmatrix}\n",
    "  m(x) - \\epsilon \\\\\n",
    "  -m(x) - \\epsilon \\\\\n",
    "  m(x) + \\epsilon\n",
    " \\end{pmatrix}$$\n",
    " \n",
    " where $m(x) = \\frac{1}{N}\\sum_i \\sigma^z_i$ is the total magnetization of configuration $x$.  $\\epsilon$ is a parameter ranging from 0 to 1 that determines how polarized the spins have to be to be classified a one of the ways.  Start with an $ \\epsilon $ of 0.3, but feel free to vary it and discuss its effect.  A heaviside step function is applied to each of these elements because they are Perceptrons.\n",
    " \n",
    "The output's weights and biases are:\n",
    "$$ W_2 = \n",
    " \\begin{pmatrix}\n",
    "  2 & 1 &  -1 \\\\\n",
    "      -2 & -2 & 1\n",
    " \\end{pmatrix} \\; \\; \\text{and} \\; \\; b_2 =\\begin{pmatrix}\n",
    "  0 \\\\\n",
    "    0\n",
    " \\end{pmatrix}$$\n",
    "\n",
    "The output features 2 neurons: one that fires if the input is in the cold, ferromagnetic state and the other if the input is in the warm, paramagnetic state.  Write a function `toy_model` that maps an Ising configuration to a vector of length 2 with these specifications.  This function will be the neural net, effectively.\n",
    "\n",
    "Sample 20 temperatures between 1 and 5 inclusive.  For each temperature, generate 10000 spin configurations with `metropolis`.  Determine the average of each output neuron, and plot the results as a function of temperature on the same figure.  The critical temperature is understood to be at the point in which the lines cross.  What is $T_C$?"
   ]
  },
  {
   "cell_type": "code",
   "execution_count": 5,
   "metadata": {
    "collapsed": false
   },
   "outputs": [
    {
     "name": "stdout",
     "output_type": "stream",
     "text": [
      "[[ 2 -2]\n",
      " [ 1 -2]\n",
      " [-1  1]]\n"
     ]
    }
   ],
   "source": [
    "w2=np.array((2,1,-1,-2,-2,1))\n",
    "w2=np.reshape(w2,(2,3)).T\n",
    "print w2"
   ]
  },
  {
   "cell_type": "code",
   "execution_count": 28,
   "metadata": {
    "collapsed": false
   },
   "outputs": [
    {
     "name": "stdout",
     "output_type": "stream",
     "text": [
      "1.0\n"
     ]
    },
    {
     "name": "stderr",
     "output_type": "stream",
     "text": [
      "/home/collin/anaconda2/lib/python2.7/site-packages/ipykernel/__main__.py:89: DeprecationWarning: using a non-integer number instead of an integer will result in an error in the future\n"
     ]
    },
    {
     "name": "stdout",
     "output_type": "stream",
     "text": [
      "1.21052631579\n",
      "1.42105263158\n",
      "1.63157894737\n",
      "1.84210526316\n",
      "2.05263157895\n",
      "2.26315789474\n",
      "2.47368421053\n",
      "2.68421052632\n",
      "2.89473684211\n",
      "3.10526315789\n",
      "3.31578947368\n",
      "3.52631578947\n",
      "3.73684210526\n",
      "3.94736842105\n",
      "4.15789473684\n",
      "4.36842105263\n",
      "4.57894736842\n",
      "4.78947368421\n",
      "5.0\n"
     ]
    }
   ],
   "source": [
    "\n",
    "def toy_model(stored_states,e):\n",
    "    \n",
    "    \n",
    "    \n",
    "    n=len(stored_states[0,0,:])\n",
    "    \n",
    "    y1_vals=np.zeros(n)\n",
    "    y2_vals=np.zeros(n)\n",
    "  \n",
    "    for i in range(n):\n",
    "        state=stored_states[:,:,i]\n",
    "        size=float(len(state))\n",
    "        \n",
    "    \n",
    "    #high m means low temp\n",
    "        m=(1./size)*np.sum(state)\n",
    "        \n",
    "        \n",
    "    \n",
    "        temp=np.array((m-e,-m-e,m+e))\n",
    "        a=(1./1.+e) * temp\n",
    "        \n",
    "   \n",
    "    \n",
    "    # fire if a>0, fire for low temp? \n",
    "        z=np.zeros(3)\n",
    "        if a[0]>0:\n",
    "            z[0]=1\n",
    "        if a[1]>0:\n",
    "            z[1]=1\n",
    "        if a[2]>0:\n",
    "            z[2]=1\n",
    "        \n",
    "        \n",
    "        #apply second weight\n",
    "        \n",
    "        w1=np.array((2,1,-1)).T\n",
    "        w2=np.array((-2,-2,1)).T\n",
    "      \n",
    "        \n",
    "        c1=np.dot(z,w1)\n",
    "        c2=np.dot(z,w2)\n",
    "        \n",
    "        #fire if cs are >1\n",
    "        \n",
    "        if c1>0:\n",
    "            d1=1\n",
    "        elif c1<0:\n",
    "            d1=0\n",
    "        else:\n",
    "            print 'error'\n",
    "            \n",
    "        if c2>0:\n",
    "            d2=1\n",
    "        elif c2<0:\n",
    "            d2=0\n",
    "        else:\n",
    "            print 'error'\n",
    "            \n",
    "            \n",
    "\n",
    "        y1_vals[i]=d1\n",
    "        \n",
    "        y2_vals[i]=d2\n",
    "        \n",
    "    y1=np.sum(y1_vals)/n\n",
    "        \n",
    "    y2=np.sum(y2_vals)/n\n",
    "    \n",
    "      \n",
    "        \n",
    "    \n",
    "    return y1,y2\n",
    "    \n",
    "    \n",
    "    \n",
    "temps=np.linspace(1,5,20)\n",
    "y1s=np.zeros(20)\n",
    "y2s=np.zeros(20)\n",
    "for i in temps:\n",
    "    print i\n",
    "    stored_states=metropolis(i,10000)\n",
    "    y1s[i],y2s[i]=toy_model(stored_states,0.3)\n",
    "    "
   ]
  },
  {
   "cell_type": "code",
   "execution_count": 29,
   "metadata": {
    "collapsed": false
   },
   "outputs": [
    {
     "name": "stdout",
     "output_type": "stream",
     "text": [
      "[ 0.      1.      0.9641  0.8828  0.8836  0.8641  0.      0.      0.      0.\n",
      "  0.      0.      0.      0.      0.      0.      0.      0.      0.      0.    ]\n",
      "[ 0.      0.      0.0359  0.1172  0.1164  0.1359  0.      0.      0.      0.\n",
      "  0.      0.      0.      0.      0.      0.      0.      0.      0.      0.    ]\n"
     ]
    },
    {
     "data": {
      "image/png": "[encoded data removed]",
      "text/plain": [
       "<matplotlib.figure.Figure at 0x7f32d171d390>"
      ]
     },
     "metadata": {},
     "output_type": "display_data"
    }
   ],
   "source": [
    "from matplotlib import pyplot as plt\n",
    "print y1s\n",
    "print y2s\n",
    "plt.axis((1,5,-1.0,1.0))\n",
    "plt.plot(temps,y1s)\n",
    "plt.plot(temps,y2s)\n",
    "plt.show()"
   ]
  },
  {
   "cell_type": "markdown",
   "metadata": {},
   "source": [
    "Tc is about 2.3"
   ]
  },
  {
   "cell_type": "markdown",
   "metadata": {},
   "source": [
    "# Problem Z\n",
    "\n",
    "Comment on the amount of time this assignment required."
   ]
  },
  {
   "cell_type": "markdown",
   "metadata": {},
   "source": [
    "About 12 hours, I think the error is in my toy model, but I didn't have time to fix it"
   ]
  }
 ],
 "metadata": {
  "kernelspec": {
   "display_name": "Python 2",
   "language": "python",
   "name": "python2"
  },
  "language_info": {
   "codemirror_mode": {
    "name": "ipython",
    "version": 2
   },
   "file_extension": ".py",
   "mimetype": "text/x-python",
   "name": "python",
   "nbconvert_exporter": "python",
   "pygments_lexer": "ipython2",
   "version": "2.7.13"
  }
 },
 "nbformat": 4,
 "nbformat_minor": 2
}
