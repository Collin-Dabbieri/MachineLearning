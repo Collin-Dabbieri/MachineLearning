{
 "cells": [
  {
   "cell_type": "markdown",
   "metadata": {},
   "source": [
    "# Homework 11\n",
    "\n",
    "## ASTR 5900, Fall 2017, University of Oklahoma\n",
    "\n",
    "### More Regression"
   ]
  },
  {
   "cell_type": "markdown",
   "metadata": {},
   "source": [
    "# Problem 1\n",
    "\n",
    "Polymer dielectrics have many applications such as in organic photovoltaics and wearable electronics.  One property that a polymer should have as a dielectric is a high bandgap energy.  There are two compounding difficulties in searching for polymer candidates for these technologies: the volume of chemical space is vast and the evaluation of material properties via *ab initio* methods are computationally expensive.  However it is possible to build a model to  predict the properties of polymers using regression, a supervised learning method.\n",
    "\n",
    "In this problem we will perform regression on the bandgap energy of certain polymers.  The data is located in `polymers.csv`.  Featured are 284 unique 4-block materials composed of 7 different molecular building blocks: $CH_2$, $NH$, $CO$, $C_6 H_4$, $C_4 H_2 S$, $CS$, and $O$.  The polymers are understood to repeat indefinitely.\n",
    "\n",
    "### Part A\n",
    "\n",
    "The choice of how data is represented is an important part of machine learning.  One such representation of our molecule data is the $M_{II}$ fingerprint, which is a normalized count of the number of different types of pairs of building blocks in a polyer.  The representation is therefore a $7 \\times 7$ matrix with these specifications:\n",
    "\n",
    "1. The sum of all elements in the matrix should be equal to 4 (since we are dealing with 4-block materials) $$ \\sum^7_{i,j} M_{ij} = 4$$\n",
    "2. The sum of elemnents in any row or column of $M$ should be equal to the total number of blocks of that kind in the polymer.\n",
    "3. The period symmetry in the polymer dictates that $M$ is a symmetric matrix.  In other words, polymers have the same bandgap energy if they are mirrored.\n",
    "4. The diagonal elements of $M$ are integers.\n",
    "\n",
    "Transform the data from `polymers.csv` so that each molecule is represented in the $M_{II}$ fingerprint."
   ]
  },
  {
   "cell_type": "code",
   "execution_count": 1,
   "metadata": {
    "collapsed": false
   },
   "outputs": [],
   "source": [
    "import numpy as np\n",
    "data=np.genfromtxt('polymers.csv',delimiter=',',skip_header=1,dtype=None,names=('number','4_Block_Polymer','ignored','E_Diel_const','I_Diel_const','tot_Diel_const','HSE_Band_Gap'))\n"
   ]
  },
  {
   "cell_type": "code",
   "execution_count": 2,
   "metadata": {
    "collapsed": false
   },
   "outputs": [
    {
     "data": {
      "text/plain": [
       "array([(1, 'CH2-CO-NH-CS', False, 3.332, 1.017, 4.349, 3.06),\n",
       "       (2, 'CH2-CS-C6H4-O', False, 3.572, 0.467, 4.039, 2.531),\n",
       "       (3, 'C6H4-C6H4-C4H2S-CS', False, 5.391, 0.37, 5.761, 1.799),\n",
       "       (4, 'CO-O-C4H2S-CS', False, 3.784, 0.879, 4.663, 2.25),\n",
       "       (5, 'C6H4-CS-C4H2S-O', False, 3.616, 0.517, 4.133, 2.522),\n",
       "       (6, 'CO-C6H4-O-CS', False, 3.988, 0.738, 4.726, 2.308),\n",
       "       (7, 'C6H4-O-CS-C4H2S', False, 4.258, 0.532, 4.791, 2.238),\n",
       "       (8, 'C6H4-C4H2S-C6H4-C4H2S', False, 3.928, 0.11, 4.037, 2.328),\n",
       "       (9, 'NH-C4H2S-CO-C4H2S', False, 5.804, 1.674, 7.478, 1.858),\n",
       "       (10, 'CH2-NH-C4H2S-CS', False, 4.637, 1.065, 5.703, 1.828),\n",
       "       (11, 'NH-C6H4-CO-C6H4', False, 3.374, 0.412, 3.786, 3.743),\n",
       "       (12, 'NH-CO-CS-C4H2S', False, 5.404, 2.361, 7.764, 1.43),\n",
       "       (13, 'CO-C6H4-O-C4H2S', False, 3.573, 0.78, 4.354, 3.28),\n",
       "       (14, 'C6H4-CS-C4H2S-CS', False, 5.469, 0.591, 6.06, 1.384),\n",
       "       (15, 'CH2-C4H2S-NH-C4H2S', False, 3.279, 0.295, 3.574, 3.712),\n",
       "       (16, 'CH2-C4H2S-C6H4-C4H2S', False, 3.528, 0.11, 3.638, 2.599),\n",
       "       (17, 'CH2-NH-C6H4-CO', False, 3.476, 0.896, 4.372, 3.338),\n",
       "       (18, 'CO-C6H4-C4H2S-CS', False, 4.422, 0.629, 5.051, 2.222),\n",
       "       (19, 'C6H4-C6H4-CS-O', False, 3.771, 0.343, 4.114, 2.959),\n",
       "       (20, 'CH2-NH-C4H2S-C6H4', False, 3.515, 0.398, 3.912, 3.453),\n",
       "       (21, 'NH-C4H2S-C4H2S-CH2', False, 3.712, 0.545, 4.257, 2.893),\n",
       "       (22, 'CH2-C4H2S-C6H4-CS', False, 3.728, 0.323, 4.051, 2.142),\n",
       "       (23, 'CH2-NH-CS-C6H4', False, 3.25, 0.433, 3.683, 3.225),\n",
       "       (24, 'CH2-C6H4-C4H2S-C6H4', False, 3.511, 0.087, 3.598, 3.024),\n",
       "       (25, 'NH-CO-C4H2S-C6H4', False, 4.401, 0.714, 5.115, 2.418),\n",
       "       (26, 'NH-CO-CS-CO', False, 3.983, 1.361, 5.344, 1.615),\n",
       "       (27, 'CO-C6H4-C6H4-C6H4', False, 3.744, 0.304, 4.048, 2.91),\n",
       "       (28, 'CH2-CH2-C4H2S-O', False, 2.983, 0.359, 3.342, 4.261),\n",
       "       (29, 'NH-CS-CO-CS', False, 6.435, 1.456, 7.891, 1.785),\n",
       "       (30, 'CH2-C6H4-CS-O', False, 3.176, 0.348, 3.523, 3.17),\n",
       "       (31, 'CH2-CO-C4H2S-CS', False, 3.784, 0.55, 4.335, 2.495),\n",
       "       (32, 'C4H2S-C4H2S-C4H2S-O', False, 4.721, 0.41, 5.131, 2.061),\n",
       "       (33, 'CO-C4H2S-C6H4-CS', False, 4.663, 0.63, 5.292, 1.98),\n",
       "       (34, 'CH2-C6H4-NH-O', False, 3.112, 0.414, 3.526, 4.515),\n",
       "       (35, 'NH-CS-NH-CS', False, 4.444, 0.842, 5.286, 2.246),\n",
       "       (36, 'CH2-NH-CS-NH', False, 3.26, 1.408, 4.668, 4.123),\n",
       "       (37, 'NH-C4H2S-C4H2S-CO', False, 5.147, 1.23, 6.377, 1.887),\n",
       "       (38, 'CH2-C4H2S-CS-O', False, 3.681, 0.593, 4.273, 2.633),\n",
       "       (39, 'NH-CO-C4H2S-O', False, 3.504, 0.886, 4.389, 3.402),\n",
       "       (40, 'CH2-C4H2S-C6H4-O', False, 3.449, 0.315, 3.764, 3.072),\n",
       "       (41, 'C6H4-C6H4-C6H4-C4H2S', False, 4.574, 0.099, 4.673, 2.166),\n",
       "       (42, 'NH-C6H4-CO-O', False, 3.265, 1.084, 4.348, 3.894),\n",
       "       (43, 'NH-C4H2S-CO-O', False, 3.577, 1.275, 4.851, 2.482),\n",
       "       (44, 'NH-CS-NH-C6H4', False, 4.05, 1.384, 5.434, 2.913),\n",
       "       (45, 'CO-CS-O-CS', False, 4.294, 0.875, 5.169, 1.744),\n",
       "       (46, 'CH2-NH-CH2-CS', False, 3.714, 0.267, 3.981, 2.382),\n",
       "       (47, 'CH2-CH2-NH-C6H4', False, 2.96, 0.357, 3.317, 3.829),\n",
       "       (48, 'C4H2S-C4H2S-C4H2S-CS', False, 9.694, 1.032, 10.726, 0.935),\n",
       "       (49, 'CH2-C6H4-C6H4-O', False, 3.109, 0.328, 3.437, 4.033),\n",
       "       (50, 'CH2-CO-C6H4-CS', False, 3.61, 0.604, 4.214, 2.597),\n",
       "       (51, 'CO-C6H4-C6H4-CS', False, 4.414, 0.527, 4.941, 2.242),\n",
       "       (52, 'CH2-CH2-CH2-CS', False, 3.009, 0.176, 3.185, 2.942),\n",
       "       (53, 'CH2-C6H4-CH2-O', False, 2.933, 0.389, 3.322, 5.035),\n",
       "       (54, 'CH2-O-CO-O', False, 2.454, 0.895, 3.348, 7.701),\n",
       "       (55, 'NH-C6H4-CS-C6H4', False, 4.333, 1.676, 6.009, 1.983),\n",
       "       (56, 'CH2-CO-C6H4-O', False, 3.08, 0.579, 3.659, 3.961),\n",
       "       (57, 'CH2-NH-C4H2S-NH', False, 3.109, 0.712, 3.822, 3.717),\n",
       "       (58, 'CH2-C6H4-CO-O', False, 2.929, 0.603, 3.532, 4.206),\n",
       "       (59, 'NH-C4H2S-NH-CS', False, 4.469, 0.916, 5.385, 2.257),\n",
       "       (60, 'CO-C6H4-C4H2S-O', False, 3.472, 0.711, 4.184, 3.092),\n",
       "       (61, 'NH-C4H2S-O-C4H2S', False, 3.299, 0.435, 3.734, 3.981),\n",
       "       (62, 'CH2-NH-CH2-CO', False, 2.74, 0.611, 3.351, 3.986),\n",
       "       (63, 'NH-CO-NH-C6H4', False, 3.416, 0.799, 4.215, 3.609),\n",
       "       (64, 'CH2-C6H4-NH-CS', False, 3.092, 0.38, 3.472, 3.828),\n",
       "       (65, 'CH2-CH2-CH2-O', False, 2.527, 0.309, 2.836, 7.187),\n",
       "       (66, 'CH2-CS-CH2-O', False, 3.113, 0.521, 3.634, 2.666),\n",
       "       (67, 'NH-C6H4-C6H4-O', False, 3.946, 0.472, 4.418, 3.498),\n",
       "       (68, 'CH2-C4H2S-NH-CS', False, 3.611, 0.543, 4.155, 3.004),\n",
       "       (69, 'CH2-C6H4-O-C4H2S', False, 3.042, 0.263, 3.305, 4.298),\n",
       "       (70, 'CH2-CH2-CO-C6H4', False, 3.089, 0.496, 3.585, 3.893),\n",
       "       (71, 'CO-C4H2S-C4H2S-CS', False, 5.046, 0.807, 5.854, 1.728),\n",
       "       (72, 'CH2-C6H4-O-C6H4', False, 3.011, 0.249, 3.26, 4.416),\n",
       "       (73, 'CO-C4H2S-C6H4-O', False, 4.134, 0.845, 4.978, 2.323),\n",
       "       (74, 'CO-C4H2S-CO-O', False, 3.096, 1.256, 4.352, 3.471),\n",
       "       (75, 'CH2-CS-C4H2S-O', False, 4.052, 0.861, 4.913, 2.103),\n",
       "       (76, 'CH2-O-C4H2S-C6H4', False, 3.187, 0.408, 3.596, 3.574),\n",
       "       (77, 'CH2-C4H2S-CO-C4H2S', False, 3.759, 0.914, 4.672, 2.891),\n",
       "       (78, 'CO-C6H4-CO-O', False, 3.139, 1.342, 4.48, 3.676),\n",
       "       (79, 'CH2-CH2-CO-C4H2S', False, 3.216, 0.547, 3.762, 3.446),\n",
       "       (80, 'CH2-CO-CS-C6H4', False, 3.708, 0.498, 4.205, 2.526),\n",
       "       (81, 'CH2-CS-CO-O', False, 3.064, 0.829, 3.893, 2.388),\n",
       "       (82, 'NH-C4H2S-NH-C4H2S', False, 3.399, 0.444, 3.843, 3.606),\n",
       "       (83, 'C6H4-CS-C6H4-CS', False, 3.33, 0.213, 3.543, 2.041),\n",
       "       (84, 'CH2-C6H4-CH2-C6H4', False, 3.12, 0.087, 3.207, 4.782),\n",
       "       (85, 'CH2-C4H2S-O-CS', False, 3.401, 0.445, 3.846, 3.267),\n",
       "       (86, 'CO-C6H4-C6H4-C4H2S', False, 4.939, 0.57, 5.509, 1.941),\n",
       "       (87, 'CH2-CH2-NH-C4H2S', False, 3.085, 0.441, 3.526, 3.83),\n",
       "       (88, 'CH2-CH2-CO-O', False, 2.521, 0.572, 3.092, 6.838),\n",
       "       (89, 'CH2-CO-CS-C4H2S', False, 3.732, 0.625, 4.357, 2.385),\n",
       "       (90, 'CH2-C6H4-CH2-CS', False, 3.193, 0.217, 3.41, 3.078),\n",
       "       (91, 'CH2-C6H4-NH-C6H4', False, 3.312, 0.365, 3.677, 3.908),\n",
       "       (92, 'C6H4-C4H2S-C6H4-O', False, 4.097, 0.359, 4.455, 2.267),\n",
       "       (93, 'C6H4-C4H2S-O-CS', False, 3.962, 0.604, 4.567, 2.376),\n",
       "       (94, 'CH2-C4H2S-C4H2S-CS', False, 4.385, 0.492, 4.877, 1.997),\n",
       "       (95, 'CH2-CO-CH2-O', False, 2.65, 0.911, 3.561, 5.014),\n",
       "       (96, 'C6H4-C4H2S-C4H2S-C4H2S', False, 7.691, 0.174, 7.865, 1.289),\n",
       "       (97, 'CH2-C4H2S-NH-O', False, 3.267, 0.554, 3.82, 3.999),\n",
       "       (98, 'CH2-CO-C6H4-C4H2S', False, 3.508, 0.367, 3.875, 2.939),\n",
       "       (99, 'NH-CO-O-C4H2S', False, 3.393, 0.849, 4.242, 3.488),\n",
       "       (100, 'CH2-C4H2S-CO-O', False, 3.092, 0.71, 3.802, 3.913),\n",
       "       (101, 'CH2-CS-C6H4-NH', False, 4.173, 0.874, 5.047, 2.248),\n",
       "       (102, 'CO-O-C6H4-CS', False, 3.48, 0.736, 4.216, 2.526),\n",
       "       (103, 'NH-CO-C4H2S-CS', False, 3.897, 1.011, 4.908, 2.337),\n",
       "       (104, 'NH-CO-O-CS', False, 3.112, 2.384, 5.496, 2.833),\n",
       "       (105, 'CH2-NH-CS-CO', False, 3.397, 1.398, 4.795, 2.287),\n",
       "       (106, 'CH2-CO-C4H2S-O', False, 3.201, 0.825, 4.026, 3.279),\n",
       "       (107, 'CH2-CH2-C6H4-O', False, 2.979, 0.254, 3.233, 4.275),\n",
       "       (108, 'CH2-C6H4-CS-C6H4', False, 3.468, 0.219, 3.687, 2.576),\n",
       "       (109, 'CO-C6H4-CO-C6H4', False, 3.551, 0.581, 4.132, 3.308),\n",
       "       (110, 'CH2-C4H2S-CH2-O', False, 3.102, 0.522, 3.623, 2.933),\n",
       "       (111, 'CH2-NH-C4H2S-CO', False, 3.692, 0.983, 4.674, 2.721),\n",
       "       (112, 'CH2-NH-C6H4-NH', False, 3.087, 0.652, 3.738, 3.663),\n",
       "       (113, 'NH-CS-O-CS', False, 3.697, 1.133, 4.83, 2.999),\n",
       "       (114, 'CH2-C6H4-O-CS', False, 3.034, 0.309, 3.344, 3.891),\n",
       "       (115, 'NH-CS-C4H2S-O', False, 4.189, 0.948, 5.137, 2.443),\n",
       "       (116, 'CO-C6H4-C6H4-O', False, 3.241, 0.419, 3.659, 3.337),\n",
       "       (117, 'CH2-NH-CH2-C4H2S', False, 2.945, 0.486, 3.431, 4.236),\n",
       "       (118, 'C4H2S-CS-O-CS', False, 4.574, 0.742, 5.316, 1.917),\n",
       "       (119, 'CO-C4H2S-C6H4-C4H2S', False, 5.667, 0.746, 6.414, 1.732),\n",
       "       (120, 'CO-C4H2S-C4H2S-C4H2S', False, 6.738, 0.943, 7.681, 1.264),\n",
       "       (121, 'CH2-NH-CS-C4H2S', False, 3.605, 0.771, 4.376, 3.071),\n",
       "       (122, 'NH-O-CS-O', False, 3.198, 1.301, 4.499, 4.235),\n",
       "       (123, 'CH2-NH-CH2-NH', False, 2.787, 0.309, 3.097, 6.12),\n",
       "       (124, 'C6H4-CS-C4H2S-C4H2S', False, 6.422, 0.641, 7.063, 1.39),\n",
       "       (125, 'NH-CO-C6H4-CS', False, 3.545, 1.068, 4.613, 2.566),\n",
       "       (126, 'NH-CO-NH-CO', False, 3.117, 1.631, 4.749, 4.17),\n",
       "       (127, 'C4H2S-C4H2S-O-CS', False, 4.472, 0.845, 5.317, 2.1),\n",
       "       (128, 'NH-CS-NH-O', False, 3.88, 1.486, 5.365, 3.091),\n",
       "       (129, 'CO-O-C4H2S-O', False, 3.098, 0.702, 3.8, 3.921),\n",
       "       (130, 'CH2-O-C4H2S-O', False, 2.893, 0.59, 3.483, 4.494),\n",
       "       (131, 'NH-O-CO-O', False, 2.682, 1.163, 3.846, 5.548),\n",
       "       (132, 'CH2-CO-O-CS', False, 2.777, 0.594, 3.371, 3.792),\n",
       "       (133, 'CH2-O-C6H4-O', False, 2.923, 0.616, 3.539, 4.25),\n",
       "       (134, 'NH-C6H4-NH-O', False, 3.302, 1.019, 4.321, 3.651),\n",
       "       (135, 'CH2-CH2-C6H4-C4H2S', False, 3.429, 0.101, 3.53, 3.076),\n",
       "       (136, 'NH-C4H2S-CS-O', False, 4.274, 1.338, 5.612, 2.674),\n",
       "       (137, 'C6H4-C6H4-C4H2S-C4H2S', False, 6.359, 0.119, 6.478, 1.507),\n",
       "       (138, 'NH-C4H2S-C6H4-C4H2S', False, 5.328, 0.595, 5.923, 1.886),\n",
       "       (139, 'CO-C4H2S-C4H2S-O', False, 3.78, 0.962, 4.742, 2.423),\n",
       "       (140, 'NH-C4H2S-CO-CS', False, 5.329, 1.282, 6.611, 1.744),\n",
       "       (141, 'NH-C4H2S-C4H2S-C4H2S', False, 5.757, 0.572, 6.328, 1.754),\n",
       "       (142, 'CH2-CH2-CH2-C6H4', False, 2.873, 0.08, 2.953, 4.907),\n",
       "       (143, 'NH-C4H2S-O-CS', False, 3.813, 0.764, 4.577, 2.678),\n",
       "       (144, 'CH2-NH-CS-O', False, 3.225, 1.059, 4.284, 4.13),\n",
       "       (145, 'CH2-CO-O-C4H2S', False, 3.072, 0.536, 3.608, 4.409),\n",
       "       (146, 'CO-C6H4-CS-C6H4', False, 3.9, 0.503, 4.403, 1.987),\n",
       "       (147, 'NH-CS-C4H2S-CS', False, 5.082, 1.053, 6.135, 1.834),\n",
       "       (148, 'NH-CO-C6H4-C4H2S', False, 3.995, 0.604, 4.599, 2.391),\n",
       "       (149, 'NH-C4H2S-CS-C4H2S', False, 4.816, 1.028, 5.844, 1.966),\n",
       "       (150, 'C6H4-C4H2S-O-C4H2S', False, 4.257, 0.43, 4.687, 2.339),\n",
       "       (151, 'C6H4-C6H4-C6H4-CS', False, 3.881, 0.255, 4.136, 2.037),\n",
       "       (152, 'CH2-C4H2S-CH2-C4H2S', False, 3.175, 0.212, 3.387, 4.288),\n",
       "       (153, 'CO-CS-CO-O', False, 3.618, 0.878, 4.496, 1.798),\n",
       "       (154, 'CO-C6H4-C4H2S-C6H4', False, 4.615, 0.5, 5.115, 2.038),\n",
       "       (155, 'CH2-NH-CH2-C6H4', False, 2.937, 0.202, 3.139, 4.627),\n",
       "       (156, 'CH2-C6H4-CO-C4H2S', False, 3.289, 0.451, 3.74, 3.634),\n",
       "       (157, 'CH2-O-CH2-O', False, 2.584, 1.007, 3.591, 7.127),\n",
       "       (158, 'CO-C6H4-C4H2S-C4H2S', False, 4.175, 0.462, 4.638, 2.262),\n",
       "       (159, 'CH2-CO-CS-O', False, 3.243, 0.888, 4.131, 2.245),\n",
       "       (160, 'NH-CO-CS-O', False, 3.567, 1.247, 4.814, 2.466),\n",
       "       (161, 'CH2-CO-CS-CO', False, 4.12, 1.303, 5.423, 1.67),\n",
       "       (162, 'CH2-NH-C6H4-C4H2S', False, 3.475, 0.52, 3.995, 3.263),\n",
       "       (163, 'NH-CS-C6H4-CS', False, 4.128, 1.539, 5.667, 1.928),\n",
       "       (164, 'NH-C6H4-C6H4-CH2', False, 3.476, 0.351, 3.827, 3.488),\n",
       "       (165, 'NH-CO-NH-CS', False, 3.922, 3.361, 7.283, 2.298),\n",
       "       (166, 'NH-C4H2S-C4H2S-CS', False, 7.078, 0.995, 8.073, 1.681),\n",
       "       (167, 'NH-C6H4-NH-C6H4', False, 3.877, 1.028, 4.904, 2.518),\n",
       "       (168, 'NH-C6H4-NH-C4H2S', False, 3.583, 1.463, 5.046, 2.885),\n",
       "       (169, 'CH2-C6H4-C6H4-C4H2S', False, 3.731, 0.186, 3.916, 3.025),\n",
       "       (170, 'CH2-C4H2S-CS-C4H2S', False, 3.779, 0.376, 4.155, 2.348),\n",
       "       (171, 'CO-NH-CO-C6H4', False, 3.633, 2.068, 5.702, 2.163),\n",
       "       (172, 'CH2-CS-CO-CS', False, 4.466, 0.766, 5.233, 1.276),\n",
       "       (173, 'CH2-CH2-NH-CS', False, 3.199, 1.01, 4.209, 3.899),\n",
       "       (174, 'CH2-C4H2S-C4H2S-O', False, 3.529, 0.385, 3.914, 3.012),\n",
       "       (175, 'CH2-CO-NH-C4H2S', False, 3.233, 0.561, 3.794, 4.115),\n",
       "       (176, 'CH2-CH2-CO-CS', False, 3.281, 0.983, 4.264, 1.993),\n",
       "       (177, 'NH-C6H4-C6H4-C4H2S', False, 5.067, 0.434, 5.501, 2.023),\n",
       "       (178, 'CH2-C6H4-C4H2S-CS', False, 3.988, 0.288, 4.275, 2.19),\n",
       "       (179, 'C6H4-O-CS-O', False, 3.158, 0.523, 3.681, 4.322),\n",
       "       (180, 'CH2-O-NH-CO', False, 2.831, 1.084, 3.915, 5.702),\n",
       "       (181, 'NH-C6H4-C4H2S-C6H4', False, 5.032, 0.383, 5.415, 1.842),\n",
       "       (182, 'C6H4-O-C4H2S-O', False, 3.006, 0.345, 3.351, 4.31),\n",
       "       (183, 'NH-C6H4-O-C4H2S', False, 3.305, 0.472, 3.777, 3.555),\n",
       "       (184, 'CH2-NH-CO-CS', False, 3.244, 1.277, 4.521, 2.626),\n",
       "       (185, 'CH2-NH-C6H4-O', False, 3.149, 0.729, 3.878, 3.901),\n",
       "       (186, 'C6H4-C6H4-C6H4-C6H4', False, 4.105, 0.073, 4.178, 2.753),\n",
       "       (187, 'CH2-CO-NH-C6H4', False, 3.094, 0.561, 3.655, 4.099),\n",
       "       (188, 'CH2-CH2-CH2-CH2', False, 2.59, 0.023, 2.613, 8.606),\n",
       "       (189, 'NH-CO-C6H4-C6H4', False, 4.327, 0.531, 4.858, 2.593),\n",
       "       (190, 'NH-CO-CS-C6H4', False, 4.076, 1.028, 5.104, 1.989),\n",
       "       (191, 'CO-C6H4-CS-C4H2S', False, 4.004, 0.618, 4.622, 2.048),\n",
       "       (192, 'CH2-CO-CH2-CO', False, 2.831, 0.711, 3.542, 4.941),\n",
       "       (193, 'CO-O-C6H4-O', False, 2.833, 0.695, 3.529, 4.662),\n",
       "       (194, 'NH-CO-C4H2S-CO', False, 3.572, 1.226, 4.798, 3.022),\n",
       "       (195, 'CH2-C6H4-C4H2S-C4H2S', False, 3.608, 0.107, 3.716, 2.817),\n",
       "       (196, 'CO-C6H4-CO-C4H2S', False, 3.571, 0.713, 4.284, 2.889),\n",
       "       (197, 'CH2-C6H4-CO-CS', False, 3.462, 0.422, 3.884, 2.705),\n",
       "       (198, 'CH2-CH2-C6H4-CS', False, 3.407, 0.231, 3.639, 2.81),\n",
       "       (199, 'NH-C4H2S-C6H4-CS', False, 3.892, 0.457, 4.349, 2.524),\n",
       "       (200, 'CH2-NH-O-C6H4', False, 3.092, 0.275, 3.366, 4.369),\n",
       "       (201, 'CH2-C6H4-C6H4-C6H4', False, 3.325, 0.081, 3.406, 3.591),\n",
       "       (202, 'CH2-O-NH-O', False, 2.834, 1.392, 4.226, 5.688),\n",
       "       (203, 'CH2-CH2-C4H2S-CS', False, 3.529, 0.311, 3.84, 2.492),\n",
       "       (204, 'NH-CO-NH-C4H2S', False, 3.67, 0.872, 4.541, 3.321),\n",
       "       (205, 'CH2-C4H2S-CH2-CS', False, 3.145, 0.162, 3.307, 2.694),\n",
       "       (206, 'NH-CO-NH-O', False, 3.147, 1.25, 4.397, 5.137),\n",
       "       (207, 'CO-C6H4-CS-O', False, 3.513, 1.089, 4.601, 2.86),\n",
       "       (208, 'CH2-CH2-O-NH', False, 2.673, 0.58, 3.253, 6.013),\n",
       "       (209, 'CH2-CO-CH2-C4H2S', False, 2.967, 0.386, 3.353, 3.997),\n",
       "       (210, 'C6H4-O-C6H4-O', False, 3.266, 0.388, 3.655, 3.911),\n",
       "       (211, 'CH2-O-CS-O', False, 2.982, 0.871, 3.854, 4.104),\n",
       "       (212, 'NH-CO-C6H4-O', False, 3.339, 0.628, 3.967, 3.985),\n",
       "       (213, 'C4H2S-O-C4H2S-O', False, 3.194, 0.392, 3.586, 4.185),\n",
       "       (214, 'CH2-NH-CO-C6H4', False, 3.069, 0.593, 3.662, 4.496),\n",
       "       (215, 'CH2-C4H2S-O-C4H2S', False, 3.1, 0.239, 3.34, 4.357),\n",
       "       (216, 'CH2-CO-O-CO', False, 2.631, 0.965, 3.596, 6.032),\n",
       "       (217, 'CH2-CO-C4H2S-C6H4', False, 3.501, 0.516, 4.017, 3.1),\n",
       "       (218, 'CH2-CO-C6H4-CO', False, 3.154, 0.612, 3.766, 3.49),\n",
       "       (219, 'NH-C4H2S-C4H2S-O', False, 4.052, 0.813, 4.865, 2.012),\n",
       "       (220, 'CH2-CH2-C4H2S-C4H2S', False, 3.408, 0.129, 3.538, 2.79),\n",
       "       (221, 'CH2-NH-CH2-O', False, 2.577, 0.7, 3.277, 6.63),\n",
       "       (222, 'NH-C6H4-C6H4-C6H4', False, 4.011, 0.288, 4.299, 2.829),\n",
       "       (223, 'C6H4-CS-O-CS', False, 4.016, 0.816, 4.832, 2.511),\n",
       "       (224, 'CO-C4H2S-CS-O', False, 3.661, 1.252, 4.913, 2.624),\n",
       "       (225, 'NH-C6H4-C4H2S-C4H2S', False, 3.944, 0.317, 4.262, 1.803),\n",
       "       (226, 'CH2-CH2-CH2-NH', False, 2.643, 0.207, 2.85, 6.165),\n",
       "       (227, 'CH2-CO-NH-CO', False, 2.818, 1.202, 4.02, 4.993),\n",
       "       (228, 'NH-CS-C6H4-O', False, 3.626, 0.597, 4.223, 2.884),\n",
       "       (229, 'CO-C4H2S-CO-C4H2S', False, 3.933, 1.984, 5.917, 2.303),\n",
       "       (230, 'NH-C6H4-O-CS', False, 3.418, 0.647, 4.066, 3.625),\n",
       "       (231, 'CH2-C4H2S-CO-CS', False, 3.491, 0.453, 3.945, 2.801),\n",
       "       (232, 'CH2-CO-O-C6H4', False, 2.781, 0.466, 3.247, 4.907),\n",
       "       (233, 'C4H2S-C4H2S-C4H2S-C4H2S', False, 8.798, 0.229, 9.027, 1.023),\n",
       "       (234, 'CO-C6H4-O-C6H4', False, 3.267, 0.624, 3.891, 3.45),\n",
       "       (235, 'CH2-CH2-CH2-C4H2S', False, 2.853, 0.129, 2.982, 4.257),\n",
       "       (236, 'NH-CO-O-C6H4', False, 3.234, 1.007, 4.241, 3.81),\n",
       "       (237, 'CO-C4H2S-O-CS', False, 4.444, 0.928, 5.372, 1.996),\n",
       "       (238, 'C6H4-C4H2S-C4H2S-O', False, 4.057, 0.447, 4.505, 2.234),\n",
       "       (239, 'CH2-CO-C4H2S-C4H2S', False, 3.971, 0.621, 4.592, 2.433),\n",
       "       (240, 'CH2-CO-CH2-CS', False, 3.003, 0.597, 3.6, 3.159),\n",
       "       (241, 'NH-C6H4-C4H2S-CS', False, 5.528, 0.669, 6.197, 1.939),\n",
       "       (242, 'CH2-C4H2S-C4H2S-C4H2S', False, 3.926, 0.154, 4.08, 2.297),\n",
       "       (243, 'NH-C6H4-CS-O', False, 5.334, 2.608, 7.942, 1.401),\n",
       "       (244, 'NH-C6H4-CO-C4H2S', False, 4.188, 1.393, 5.581, 2.569),\n",
       "       (245, 'CO-C4H2S-CO-CS', False, 4.481, 0.964, 5.445, 1.535),\n",
       "       (246, 'NH-CS-CO-O', False, 3.505, 1.506, 5.011, 2.218),\n",
       "       (247, 'CH2-CS-NH-CS', False, 3.818, 1.679, 5.497, 1.85),\n",
       "       (248, 'C6H4-C6H4-C4H2S-O', False, 4.239, 0.343, 4.582, 2.516),\n",
       "       (249, 'CH2-CO-C4H2S-CO', False, 3.22, 0.728, 3.947, 3.342),\n",
       "       (250, 'CH2-NH-CO-C4H2S', False, 3.185, 0.607, 3.791, 4.027),\n",
       "       (251, 'CH2-C6H4-C6H4-CS', False, 3.88, 0.226, 4.106, 2.574),\n",
       "       (252, 'CH2-C6H4-NH-C4H2S', False, 3.313, 0.409, 3.722, 3.559),\n",
       "       (253, 'C6H4-C4H2S-C6H4-CS', False, 4.867, 0.521, 5.387, 1.975),\n",
       "       (254, 'CH2-C6H4-CS-C4H2S', False, 3.504, 0.318, 3.822, 2.556),\n",
       "       (255, 'C6H4-C4H2S-CS-C4H2S', False, 6.61, 0.577, 7.187, 1.26),\n",
       "       (256, 'C4H2S-O-CS-O', False, 3.315, 0.628, 3.943, 3.132),\n",
       "       (257, 'CH2-CS-NH-O', False, 3.243, 1.015, 4.258, 4.301),\n",
       "       (258, 'CH2-C6H4-CH2-C4H2S', False, 3.101, 0.091, 3.192, 4.155),\n",
       "       (259, 'CO-O-CS-O', False, 2.654, 1.104, 3.758, 4.009),\n",
       "       (260, 'NH-C6H4-O-C6H4', False, 3.399, 0.66, 4.059, 3.433),\n",
       "       (261, 'CH2-C6H4-CO-C6H4', False, 3.329, 0.359, 3.688, 4.044),\n",
       "       (262, 'NH-CO-O-CO', False, 2.656, 1.913, 4.569, 5.306),\n",
       "       (263, 'CO-C4H2S-CS-C4H2S', False, 4.812, 0.966, 5.779, 1.727),\n",
       "       (264, 'CH2-CS-O-CS', False, 3.424, 0.466, 3.89, 3.032),\n",
       "       (265, 'C4H2S-CS-C4H2S-O', False, 3.873, 0.639, 4.512, 2.33),\n",
       "       (266, 'CO-C4H2S-O-C4H2S', False, 3.64, 0.755, 4.395, 2.928),\n",
       "       (267, 'C6H4-CS-C6H4-O', False, 3.698, 0.667, 4.364, 2.21),\n",
       "       (268, 'NH-O-C6H4-O', False, 3.253, 0.649, 3.902, 4.134),\n",
       "       (269, 'CH2-CO-CH2-C6H4', False, 2.888, 0.631, 3.518, 3.997),\n",
       "       (270, 'CH2-NH-O-CS', False, 3.175, 0.392, 3.568, 3.849),\n",
       "       (271, 'CH2-NH-C4H2S-O', False, 3.147, 0.756, 3.903, 3.722),\n",
       "       (272, 'CH2-CS-C4H2S-CS', False, 5.645, 0.396, 6.041, 1.835),\n",
       "       (273, 'CO-C6H4-CO-CS', False, 3.743, 0.597, 4.34, 1.976),\n",
       "       (274, 'CH2-CH2-CH2-CO', False, 2.543, 0.69, 3.233, 5.321),\n",
       "       (275, 'CH2-CO-C6H4-C6H4', False, 3.33, 0.329, 3.658, 3.369),\n",
       "       (276, 'CH2-CH2-CS-O', False, 3.022, 0.375, 3.397, 3.768),\n",
       "       (277, 'NH-C4H2S-CS-C6H4', False, 4.698, 1.268, 5.966, 1.895),\n",
       "       (278, 'CH2-NH-O-C4H2S', False, 3.18, 0.337, 3.517, 4.134),\n",
       "       (279, 'C6H4-C6H4-C6H4-O', False, 3.369, 0.232, 3.601, 3.592),\n",
       "       (280, 'NH-C6H4-CO-CS', False, 4.18, 0.96, 5.141, 2.111),\n",
       "       (281, 'CH2-CH2-C6H4-C6H4', False, 3.296, 0.071, 3.367, 3.857),\n",
       "       (282, 'CH2-CS-CH2-CS', False, 3.485, 0.232, 3.718, 2.708),\n",
       "       (283, 'NH-C6H4-C6H4-CS', False, 4.043, 0.404, 4.447, 2.691),\n",
       "       (284, 'CH2-NH-O-NH', False, 2.747, 0.42, 3.168, 5.3)], \n",
       "      dtype=[('number', '<i8'), ('4_Block_Polymer', 'S23'), ('ignored', '?'), ('E_Diel_const', '<f8'), ('I_Diel_const', '<f8'), ('tot_Diel_const', '<f8'), ('HSE_Band_Gap', '<f8')])"
      ]
     },
     "execution_count": 2,
     "metadata": {},
     "output_type": "execute_result"
    }
   ],
   "source": [
    "data"
   ]
  },
  {
   "cell_type": "code",
   "execution_count": 3,
   "metadata": {
    "collapsed": false
   },
   "outputs": [
    {
     "name": "stdout",
     "output_type": "stream",
     "text": [
      "0\n",
      "[[ 0.   0.   0.5  0.   0.   0.5  0. ]\n",
      " [ 0.   0.   0.5  0.   0.   0.5  0. ]\n",
      " [ 0.5  0.5  0.   0.   0.   0.   0. ]\n",
      " [ 0.   0.   0.   0.   0.   0.   0. ]\n",
      " [ 0.   0.   0.   0.   0.   0.   0. ]\n",
      " [ 0.5  0.5  0.   0.   0.   0.   0. ]\n",
      " [ 0.   0.   0.   0.   0.   0.   0. ]]\n",
      "[[ 3.06   2.531  1.799  2.25   2.522  2.308  2.238  2.328  1.858  1.828\n",
      "   3.743  1.43   3.28   1.384  3.712  2.599  3.338  2.222  2.959  3.453\n",
      "   2.893  2.142  3.225  3.024  2.418  1.615  2.91   4.261  1.785  3.17\n",
      "   2.495  2.061  1.98   4.515  2.246  4.123  1.887  2.633  3.402  3.072\n",
      "   2.166  3.894  2.482  2.913  1.744  2.382  3.829  0.935  4.033  2.597\n",
      "   2.242  2.942  5.035  7.701  1.983  3.961  3.717  4.206  2.257  3.092\n",
      "   3.981  3.986  3.609  3.828  7.187  2.666  3.498  3.004  4.298  3.893\n",
      "   1.728  4.416  2.323  3.471  2.103  3.574  2.891  3.676  3.446  2.526\n",
      "   2.388  3.606  2.041  4.782  3.267  1.941  3.83   6.838  2.385  3.078\n",
      "   3.908  2.267  2.376  1.997  5.014  1.289  3.999  2.939  3.488  3.913\n",
      "   2.248  2.526  2.337  2.833  2.287  3.279  4.275  2.576  3.308  2.933\n",
      "   2.721  3.663  2.999  3.891  2.443  3.337  4.236  1.917  1.732  1.264\n",
      "   3.071  4.235  6.12   1.39   2.566  4.17   2.1    3.091  3.921  4.494\n",
      "   5.548  3.792  4.25   3.651  3.076  2.674  1.507  1.886  2.423  1.744\n",
      "   1.754  4.907  2.678  4.13   4.409  1.987  1.834  2.391  1.966  2.339\n",
      "   2.037  4.288  1.798  2.038  4.627  3.634  7.127  2.262  2.245  2.466\n",
      "   1.67   3.263  1.928  3.488  2.298  1.681  2.518  2.885  3.025  2.348\n",
      "   2.163  1.276  3.899  3.012  4.115  1.993  2.023  2.19   4.322  5.702\n",
      "   1.842  4.31   3.555  2.626  3.901  2.753  4.099  8.606  2.593  1.989\n",
      "   2.048  4.941  4.662  3.022  2.817  2.889  2.705  2.81   2.524  4.369\n",
      "   3.591  5.688  2.492  3.321  2.694  5.137  2.86   6.013  3.997  3.911\n",
      "   4.104  3.985  4.185  4.496  4.357  6.032  3.1    3.49   2.012  2.79\n",
      "   6.63   2.829  2.511  2.624  1.803  6.165  4.993  2.884  2.303  3.625\n",
      "   2.801  4.907  1.023  3.45   4.257  3.81   1.996  2.234  2.433  3.159\n",
      "   1.939  2.297  1.401  2.569  1.535  2.218  1.85   2.516  3.342  4.027\n",
      "   2.574  3.559  1.975  2.556  1.26   3.132  4.301  4.155  4.009  3.433\n",
      "   4.044  5.306  1.727  3.032  2.33   2.928  2.21   4.134  3.997  3.849\n",
      "   3.722  1.835  1.976  5.321  3.369  3.768  1.895  4.134  3.592  2.111\n",
      "   3.857  2.708  2.691  5.3  ]]\n"
     ]
    }
   ],
   "source": [
    "blocks=['CH2','NH','CO','C6H4','C4H2S','CS','O']\n",
    "Matrix=np.zeros((7,7,284))\n",
    "BandGap=np.zeros((1,284))\n",
    "b=0\n",
    "print blocks.index('CH2')\n",
    "for datum in data:\n",
    "    polymer, bg = datum[1],datum[-1]\n",
    "    polymer = polymer.split('-')\n",
    "    a=np.zeros((7,7))\n",
    "    \n",
    "    point1=blocks.index(polymer[0])\n",
    "    point2=blocks.index(polymer[1])\n",
    "    point3=blocks.index(polymer[2])\n",
    "    point4=blocks.index(polymer[3])\n",
    "    \n",
    "    a[point1,point2]+=1\n",
    "    a[point2,point1]+=1\n",
    "    a[point2,point3]+=1\n",
    "    a[point3,point2]+=1\n",
    "    a[point3,point4]+=1\n",
    "    a[point4,point3]+=1\n",
    "    a[point4,point1]+=1\n",
    "    a[point1,point4]+=1\n",
    "    \n",
    "    a=a/2.\n",
    "    \n",
    "    Matrix[:,:,b]=a\n",
    "    BandGap[0,b]=bg\n",
    "    b+=1\n",
    "    \n",
    "print Matrix[:,:,0]\n",
    "print BandGap\n",
    "\n",
    "    \n",
    "    \n"
   ]
  },
  {
   "cell_type": "markdown",
   "metadata": {},
   "source": [
    "### Part B\n",
    "\n",
    "Perform Kernel Ridge Regression on the data using `sklearn.kernel_ridge.KernelRidge`.  Use a Gaussian kernel with a width ($\\sigma$) of 25.  Use an alpha parameter of $10^{-5}$.\n",
    "\n",
    "You must define your own Gaussian kernel that goes like $$ k(\\vec{x}, \\vec{v}) = \\exp\\left( -\\frac{1}{2\\sigma^2} || \\vec{x} - \\vec{v}||^2\\right)$$\n",
    "Read this link on `KernelRidge` objects to understand how to implement it: http://scikit-learn.org/stable/modules/generated/sklearn.kernel_ridge.KernelRidge.html#sklearn.kernel_ridge.KernelRidge\n",
    "\n",
    "Use the first 200 data points to train your model, then the remaining 84 to test it.  Calculate the standard error of the test set.  Plot the model values of the data points against their target values, and color each point according to its membership in the test or training set.  Use appropriate labels.\n"
   ]
  },
  {
   "cell_type": "code",
   "execution_count": 4,
   "metadata": {
    "collapsed": false
   },
   "outputs": [
    {
     "name": "stdout",
     "output_type": "stream",
     "text": [
      "0.935\n",
      "8.606\n",
      "(1, 284)\n"
     ]
    }
   ],
   "source": [
    "print BandGap.min()\n",
    "print BandGap.max()\n",
    "print BandGap.shape"
   ]
  },
  {
   "cell_type": "code",
   "execution_count": 5,
   "metadata": {
    "collapsed": true
   },
   "outputs": [],
   "source": [
    "Matrix=np.reshape(Matrix,(49,284))\n"
   ]
  },
  {
   "cell_type": "code",
   "execution_count": 6,
   "metadata": {
    "collapsed": false
   },
   "outputs": [
    {
     "name": "stdout",
     "output_type": "stream",
     "text": [
      "(84, 49)\n",
      "(84,)\n"
     ]
    }
   ],
   "source": [
    "training_set_M=Matrix[:,:200]\n",
    "training_set_BG = BandGap[0,:200]\n",
    "\n",
    "training_set_M=training_set_M.T\n",
    "\n",
    "\n",
    "test_set_M=Matrix[:,200:]\n",
    "test_set_BG=BandGap[0,200:]\n",
    "\n",
    "test_set_M=test_set_M.T\n",
    "\n",
    "\n",
    "print test_set_M.shape\n",
    "print test_set_BG.shape"
   ]
  },
  {
   "cell_type": "code",
   "execution_count": 7,
   "metadata": {
    "collapsed": false
   },
   "outputs": [],
   "source": [
    "def gaussian(x,v):\n",
    "    return np.exp(-0.5 * np.dot((x-v),(x-v))/25**2)"
   ]
  },
  {
   "cell_type": "code",
   "execution_count": 8,
   "metadata": {
    "collapsed": true
   },
   "outputs": [],
   "source": [
    "from sklearn.kernel_ridge import KernelRidge"
   ]
  },
  {
   "cell_type": "code",
   "execution_count": 9,
   "metadata": {
    "collapsed": false
   },
   "outputs": [
    {
     "data": {
      "text/plain": [
       "KernelRidge(alpha=0.0001, coef0=1, degree=3, gamma=None,\n",
       "      kernel=<function gaussian at 0x7fc83c0e2230>, kernel_params=None)"
      ]
     },
     "execution_count": 9,
     "metadata": {},
     "output_type": "execute_result"
    }
   ],
   "source": [
    "ridge = KernelRidge(alpha=0.0001,kernel=gaussian)\n",
    "ridge.fit(training_set_M,training_set_BG)\n"
   ]
  },
  {
   "cell_type": "code",
   "execution_count": 10,
   "metadata": {
    "collapsed": false
   },
   "outputs": [
    {
     "name": "stdout",
     "output_type": "stream",
     "text": [
      "(200,)\n"
     ]
    }
   ],
   "source": [
    "from matplotlib import pyplot as plt\n",
    "y_ridge=ridge.predict(training_set_M)\n",
    "print y_ridge.shape\n",
    "y_ridge_test=ridge.predict(test_set_M)"
   ]
  },
  {
   "cell_type": "code",
   "execution_count": 12,
   "metadata": {
    "collapsed": false
   },
   "outputs": [
    {
     "name": "stdout",
     "output_type": "stream",
     "text": [
      "standard error is 0.529452300699\n"
     ]
    }
   ],
   "source": [
    "print 'standard error is', np.std(y_ridge_test-test_set_BG)"
   ]
  },
  {
   "cell_type": "code",
   "execution_count": 13,
   "metadata": {
    "collapsed": false
   },
   "outputs": [
    {
     "data": {
      "image/png": "[encoded data removed]",
      "text/plain": [
       "<matplotlib.figure.Figure at 0x7fc812c8b390>"
      ]
     },
     "metadata": {},
     "output_type": "display_data"
    }
   ],
   "source": [
    "plt.scatter(training_set_BG,y_ridge,color='r',label='Training Set')\n",
    "plt.scatter(test_set_BG,y_ridge_test,color='b',label='Test Set')\n",
    "plt.legend()\n",
    "plt.show()\n",
    "\n"
   ]
  },
  {
   "cell_type": "markdown",
   "metadata": {},
   "source": [
    "# Problem 2\n",
    "\n",
    "Now we will be performing Gaussian Process Regression on the same polymer data from Problem 1.\n",
    "\n",
    "Use an `sklearn.model_selection.GridSearchCV` object to optimize the hyperparameters of an `sklearn.gaussian_process.GaussianProcessRegressor` object applied to the polymer data.  Use the same split as before to train, then test the model.  Plot the model and true results as in Problem 1, and determine the error.  Comment on your results and compare to Problem 1.\n",
    "\n",
    "There are examples on the sci-kit learn website on how to use `GridSearchCV`, however they are applied to other models such as `KernelRidge`.  The concept is the same, so you should be able to figure out how to use them for our GP objects.  One such example is here: http://scikit-learn.org/stable/auto_examples/gaussian_process/plot_compare_gpr_krr.html#sphx-glr-auto-examples-gaussian-process-plot-compare-gpr-krr-py"
   ]
  },
  {
   "cell_type": "code",
   "execution_count": 15,
   "metadata": {
    "collapsed": false
   },
   "outputs": [],
   "source": [
    "from sklearn.gaussian_process import GaussianProcessRegressor\n",
    "from sklearn.model_selection import GridSearchCV\n",
    "from sklearn.gaussian_process.kernels import ExpSineSquared,RBF\n",
    "\n",
    "\n",
    "param_grid= {\"alpha\": [1e0, 1e-1, 1e-2, 1e-3],\n",
    "              \"kernel\": [RBF(l)\n",
    "                         for l in np.logspace(-2, 2,10)]}\n",
    "\n"
   ]
  },
  {
   "cell_type": "code",
   "execution_count": 16,
   "metadata": {
    "collapsed": false
   },
   "outputs": [
    {
     "data": {
      "text/plain": [
       "GridSearchCV(cv=5, error_score='raise',\n",
       "       estimator=GaussianProcessRegressor(alpha=1e-10, copy_X_train=True, kernel=None,\n",
       "             n_restarts_optimizer=0, normalize_y=False,\n",
       "             optimizer='fmin_l_bfgs_b', random_state=None),\n",
       "       fit_params=None, iid=True, n_jobs=1,\n",
       "       param_grid={'alpha': [1.0, 0.1, 0.01, 0.001], 'kernel': [RBF(length_scale=0.01), RBF(length_scale=0.0278), RBF(length_scale=0.0774), RBF(length_scale=0.215), RBF(length_scale=0.599), RBF(length_scale=1.67), RBF(length_scale=4.64), RBF(length_scale=12.9), RBF(length_scale=35.9), RBF(length_scale=100)]},\n",
       "       pre_dispatch='2*n_jobs', refit=True, return_train_score=True,\n",
       "       scoring=None, verbose=0)"
      ]
     },
     "execution_count": 16,
     "metadata": {},
     "output_type": "execute_result"
    }
   ],
   "source": [
    "kr = GridSearchCV(GaussianProcessRegressor(), cv=5, param_grid=param_grid)\n",
    "kr.fit(training_set_M,training_set_BG)"
   ]
  },
  {
   "cell_type": "code",
   "execution_count": 17,
   "metadata": {
    "collapsed": false
   },
   "outputs": [
    {
     "data": {
      "text/plain": [
       "GaussianProcessRegressor(alpha=0.1, copy_X_train=True,\n",
       "             kernel=RBF(length_scale=4.64), n_restarts_optimizer=0,\n",
       "             normalize_y=False, optimizer='fmin_l_bfgs_b',\n",
       "             random_state=None)"
      ]
     },
     "execution_count": 17,
     "metadata": {},
     "output_type": "execute_result"
    }
   ],
   "source": [
    "kr.best_estimator_"
   ]
  },
  {
   "cell_type": "code",
   "execution_count": 18,
   "metadata": {
    "collapsed": false
   },
   "outputs": [
    {
     "data": {
      "text/plain": [
       "GaussianProcessRegressor(alpha=0.1, copy_X_train=True,\n",
       "             kernel=RBF(length_scale=4.64), n_restarts_optimizer=0,\n",
       "             normalize_y=False, optimizer='fmin_l_bfgs_b',\n",
       "             random_state=None)"
      ]
     },
     "execution_count": 18,
     "metadata": {},
     "output_type": "execute_result"
    }
   ],
   "source": [
    "gp_kernel=RBF(4.64)\n",
    "gp=GaussianProcessRegressor(kernel=gp_kernel,alpha=0.1)\n",
    "gp.fit(training_set_M,training_set_BG)"
   ]
  },
  {
   "cell_type": "code",
   "execution_count": 19,
   "metadata": {
    "collapsed": false
   },
   "outputs": [
    {
     "name": "stdout",
     "output_type": "stream",
     "text": [
      "standard error is  0.267122471895\n"
     ]
    },
    {
     "data": {
      "image/png": "[encoded data removed]",
      "text/plain": [
       "<matplotlib.figure.Figure at 0x7fc812c8b9d0>"
      ]
     },
     "metadata": {},
     "output_type": "display_data"
    }
   ],
   "source": [
    "y_gp=gp.predict(training_set_M)\n",
    "y_gp_test=gp.predict(test_set_M)\n",
    "print 'standard error is ', np.std(y_gp-training_set_BG)\n",
    "plt.scatter(y_gp,training_set_BG,color='r',label='Training Set')\n",
    "plt.scatter(y_gp_test,test_set_BG,color='b',label='Test Set')\n",
    "plt.legend()\n",
    "plt.show()"
   ]
  },
  {
   "cell_type": "markdown",
   "metadata": {},
   "source": [
    "# Problem Z\n",
    "\n",
    "Comment on the amount of time this assignment required."
   ]
  },
  {
   "cell_type": "markdown",
   "metadata": {
    "collapsed": true
   },
   "source": [
    "This assignment took me about 7 hours"
   ]
  }
 ],
 "metadata": {
  "kernelspec": {
   "display_name": "Python 2",
   "language": "python",
   "name": "python2"
  },
  "language_info": {
   "codemirror_mode": {
    "name": "ipython",
    "version": 2
   },
   "file_extension": ".py",
   "mimetype": "text/x-python",
   "name": "python",
   "nbconvert_exporter": "python",
   "pygments_lexer": "ipython2",
   "version": "2.7.13"
  }
 },
 "nbformat": 4,
 "nbformat_minor": 2
}
